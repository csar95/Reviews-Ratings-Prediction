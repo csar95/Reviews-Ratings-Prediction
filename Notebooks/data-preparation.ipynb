{
 "cells": [
  {
   "cell_type": "code",
   "execution_count": 1,
   "id": "4521d326-f9b0-410d-a4e5-bad57f823b27",
   "metadata": {
    "tags": []
   },
   "outputs": [],
   "source": [
    "from datasets import load_dataset, load_from_disk, Dataset\n",
    "import seaborn as sns\n",
    "import string\n",
    "import re"
   ]
  },
  {
   "cell_type": "markdown",
   "id": "360c1b0a-4b8b-48c3-b53f-5de959516a03",
   "metadata": {},
   "source": [
    "# Load dataset"
   ]
  },
  {
   "cell_type": "code",
   "execution_count": 2,
   "id": "d3db93ca-87a7-4374-80cc-bd7061119062",
   "metadata": {},
   "outputs": [
    {
     "name": "stderr",
     "output_type": "stream",
     "text": [
      "Found cached dataset csv (/Users/csr95/.cache/huggingface/datasets/csv/default-022b81eaa8bd774f/0.0.0/6954658bab30a358235fa864b05cf819af0e179325c740e4bc853bcc7ec513e1)\n"
     ]
    },
    {
     "data": {
      "application/vnd.jupyter.widget-view+json": {
       "model_id": "c5160fcf72294ba99f60c90300ab857a",
       "version_major": 2,
       "version_minor": 0
      },
      "text/plain": [
       "  0%|          | 0/1 [00:00<?, ?it/s]"
      ]
     },
     "metadata": {},
     "output_type": "display_data"
    },
    {
     "data": {
      "text/plain": [
       "DatasetDict({\n",
       "    train: Dataset({\n",
       "        features: ['TEXT', 'RATING'],\n",
       "        num_rows: 10000\n",
       "    })\n",
       "})"
      ]
     },
     "execution_count": 2,
     "metadata": {},
     "output_type": "execute_result"
    }
   ],
   "source": [
    "data = load_dataset(\"csv\", data_files=\"../Resources/ratings.csv\", delimiter=',')\n",
    "data"
   ]
  },
  {
   "cell_type": "code",
   "execution_count": 3,
   "id": "4cd49b1f-e765-4596-852f-bee29ceda833",
   "metadata": {
    "tags": []
   },
   "outputs": [
    {
     "data": {
      "text/plain": [
       "{'TEXT': 'The shirt was more of a smock. I expected a soft little cotton t shirt, but I suppose it\\\\\\'s my fault for not reading the description carefully. Also, the white shirt was completely see through. I returned mine.\"}},{r:{id:46830320,si:1,pi:10860142,mu:\"{f7dedd4c-02d2-49ba-9553-4f9be0bdb9e5}',\n",
       " 'RATING': 1}"
      ]
     },
     "execution_count": 3,
     "metadata": {},
     "output_type": "execute_result"
    }
   ],
   "source": [
    "data['train'][0]"
   ]
  },
  {
   "cell_type": "markdown",
   "id": "d1023a53-843d-4c75-9a78-8b5261f2ab3a",
   "metadata": {},
   "source": [
    "Grab a small random sample to get a quick feel for the type of data we’re working with."
   ]
  },
  {
   "cell_type": "code",
   "execution_count": 4,
   "id": "37fca7ef-8f3d-4de8-895c-ec3dbc1f6719",
   "metadata": {
    "tags": []
   },
   "outputs": [
    {
     "name": "stderr",
     "output_type": "stream",
     "text": [
      "Loading cached shuffled indices for dataset at /Users/csr95/.cache/huggingface/datasets/csv/default-022b81eaa8bd774f/0.0.0/6954658bab30a358235fa864b05cf819af0e179325c740e4bc853bcc7ec513e1/cache-0057f7d43c5cb29f.arrow\n"
     ]
    },
    {
     "data": {
      "text/plain": [
       "{'TEXT': [\"This bra has been so helpful for pumping at work. I don't know what I would do without it. I like that the size is adjustable, so it can fit anyone..\",\n",
       "  'I love these long sleeve tee shirts. They are my every day go to top. They are nice alone or easy to layer under a sweater. The sleeves run tighter in this color.',\n",
       "  'I was surprised that the bra was about 2 sizes small. It was supposed to be a 38 but was probably a small 36. The cup size seemed correct but I had to return the item. I could not even try it on. The label inside the bra said 38DD but that certainly was not accurate.'],\n",
       " 'RATING': [4, 4, 1]}"
      ]
     },
     "execution_count": 4,
     "metadata": {},
     "output_type": "execute_result"
    }
   ],
   "source": [
    "data_sample = data['train'].shuffle(seed=42).select(range(1000))\n",
    "data_sample[:3]"
   ]
  },
  {
   "cell_type": "markdown",
   "id": "2e0257a6-9b54-412e-9848-ba688cb1c57f",
   "metadata": {},
   "source": [
    "# Data analysis"
   ]
  },
  {
   "cell_type": "code",
   "execution_count": 5,
   "id": "d81d4a62-a690-43ba-a2dc-eeccbf0a2347",
   "metadata": {
    "tags": []
   },
   "outputs": [
    {
     "name": "stdout",
     "output_type": "stream",
     "text": [
      "train False\n"
     ]
    }
   ],
   "source": [
    "for split in data.keys():\n",
    "    print(split, len(data[split]) == len(data[split].unique('TEXT')))"
   ]
  },
  {
   "cell_type": "markdown",
   "id": "5879de33-24ea-44a1-bd82-14d98dcb2597",
   "metadata": {},
   "source": [
    "There are several texts (reviews) repeated."
   ]
  },
  {
   "cell_type": "code",
   "execution_count": 6,
   "id": "73e94b0c-7e75-482c-b713-a46a282c4b69",
   "metadata": {
    "tags": []
   },
   "outputs": [
    {
     "data": {
      "text/plain": [
       "3467"
      ]
     },
     "execution_count": 6,
     "metadata": {},
     "output_type": "execute_result"
    }
   ],
   "source": [
    "len(data['train'].unique('TEXT'))"
   ]
  },
  {
   "cell_type": "code",
   "execution_count": 7,
   "id": "0c95fbdc-623d-4dc7-83b2-115fed67bdf7",
   "metadata": {
    "tags": []
   },
   "outputs": [
    {
     "name": "stdout",
     "output_type": "stream",
     "text": [
      "(10000, 2)\n"
     ]
    },
    {
     "data": {
      "text/html": [
       "<div>\n",
       "<style scoped>\n",
       "    .dataframe tbody tr th:only-of-type {\n",
       "        vertical-align: middle;\n",
       "    }\n",
       "\n",
       "    .dataframe tbody tr th {\n",
       "        vertical-align: top;\n",
       "    }\n",
       "\n",
       "    .dataframe thead th {\n",
       "        text-align: right;\n",
       "    }\n",
       "</style>\n",
       "<table border=\"1\" class=\"dataframe\">\n",
       "  <thead>\n",
       "    <tr style=\"text-align: right;\">\n",
       "      <th></th>\n",
       "      <th>TEXT</th>\n",
       "      <th>RATING</th>\n",
       "    </tr>\n",
       "  </thead>\n",
       "  <tbody>\n",
       "    <tr>\n",
       "      <th>1912</th>\n",
       "      <td>Runs small and is not wire free side support i...</td>\n",
       "      <td>1</td>\n",
       "    </tr>\n",
       "    <tr>\n",
       "      <th>5001</th>\n",
       "      <td>Its ok...I think sized a little small therefor...</td>\n",
       "      <td>3</td>\n",
       "    </tr>\n",
       "    <tr>\n",
       "      <th>462</th>\n",
       "      <td>ITEM: Black Skinny Leg Modern Fit - Crafted by...</td>\n",
       "      <td>1</td>\n",
       "    </tr>\n",
       "  </tbody>\n",
       "</table>\n",
       "</div>"
      ],
      "text/plain": [
       "                                                   TEXT  RATING\n",
       "1912  Runs small and is not wire free side support i...       1\n",
       "5001  Its ok...I think sized a little small therefor...       3\n",
       "462   ITEM: Black Skinny Leg Modern Fit - Crafted by...       1"
      ]
     },
     "execution_count": 7,
     "metadata": {},
     "output_type": "execute_result"
    }
   ],
   "source": [
    "data.set_format(\"pandas\")\n",
    "df_data = data[\"train\"][:]\n",
    "print(df_data.shape)\n",
    "df_data.sample(3)"
   ]
  },
  {
   "cell_type": "code",
   "execution_count": 8,
   "id": "a3b5351c-edbe-4963-b236-b7ee373e2b3e",
   "metadata": {
    "tags": []
   },
   "outputs": [
    {
     "data": {
      "text/plain": [
       "3467"
      ]
     },
     "execution_count": 8,
     "metadata": {},
     "output_type": "execute_result"
    }
   ],
   "source": [
    "df_data.TEXT.nunique()"
   ]
  },
  {
   "cell_type": "code",
   "execution_count": 9,
   "id": "6d30bd85-d1cb-476c-838a-4b673a608781",
   "metadata": {
    "tags": []
   },
   "outputs": [
    {
     "data": {
      "text/plain": [
       "1    3467\n",
       "Name: RATING, dtype: int64"
      ]
     },
     "execution_count": 9,
     "metadata": {},
     "output_type": "execute_result"
    }
   ],
   "source": [
    "df_data.groupby('TEXT')['RATING'].nunique().value_counts()"
   ]
  },
  {
   "cell_type": "markdown",
   "id": "657f8f1d-6223-496b-90f0-6fa43a5223dd",
   "metadata": {
    "tags": []
   },
   "source": [
    "Each duplicate review has the same rating."
   ]
  },
  {
   "cell_type": "code",
   "execution_count": 10,
   "id": "36f025d4-2472-490b-bec1-69c1dc6a6e77",
   "metadata": {
    "tags": []
   },
   "outputs": [
    {
     "data": {
      "text/plain": [
       "TEXT      0\n",
       "RATING    0\n",
       "dtype: int64"
      ]
     },
     "execution_count": 10,
     "metadata": {},
     "output_type": "execute_result"
    }
   ],
   "source": [
    "df_data.isna().sum()"
   ]
  },
  {
   "cell_type": "code",
   "execution_count": 11,
   "id": "0ac0c46d-78c8-4601-9ce3-7a0058214e98",
   "metadata": {
    "tags": []
   },
   "outputs": [
    {
     "data": {
      "text/plain": [
       "(3467, 2)"
      ]
     },
     "execution_count": 11,
     "metadata": {},
     "output_type": "execute_result"
    }
   ],
   "source": [
    "df_data.drop_duplicates(inplace=True)\n",
    "df_data.shape"
   ]
  },
  {
   "cell_type": "markdown",
   "id": "614d029b-fc53-4ceb-89f0-cebf52794f0f",
   "metadata": {
    "tags": []
   },
   "source": [
    "## Ratings distribution"
   ]
  },
  {
   "cell_type": "code",
   "execution_count": 12,
   "id": "63b91ffe-ae22-4d3f-bb56-978cf08b2907",
   "metadata": {
    "tags": []
   },
   "outputs": [
    {
     "data": {
      "text/plain": [
       "4    877\n",
       "2    681\n",
       "1    656\n",
       "3    633\n",
       "5    620\n",
       "Name: RATING, dtype: int64"
      ]
     },
     "execution_count": 12,
     "metadata": {},
     "output_type": "execute_result"
    }
   ],
   "source": [
    "df_data.RATING.value_counts()"
   ]
  },
  {
   "cell_type": "markdown",
   "id": "c054a101-4bf2-4f38-a08f-1b0d38e8e372",
   "metadata": {},
   "source": [
    "Convert the ratings values to the future predictions the model will return."
   ]
  },
  {
   "cell_type": "code",
   "execution_count": 13,
   "id": "ca204033-d645-4161-b846-913cc837725d",
   "metadata": {
    "tags": []
   },
   "outputs": [],
   "source": [
    "df_data.RATING = df_data.RATING - 1"
   ]
  },
  {
   "cell_type": "code",
   "execution_count": 14,
   "id": "f5218319-54ee-49e1-b612-0e544b2edbbf",
   "metadata": {
    "tags": []
   },
   "outputs": [
    {
     "data": {
      "image/png": "[encoded data removed]",
      "text/plain": [
       "<Figure size 640x480 with 1 Axes>"
      ]
     },
     "metadata": {},
     "output_type": "display_data"
    }
   ],
   "source": [
    "tmp = df_data.RATING.value_counts().to_frame().reset_index().rename(columns={'index':'Ratings', 'RATING':'Count'})\n",
    "ax = sns.barplot(tmp, x='Ratings', y='Count')\n",
    "ax.set_title('Ratings distribution')\n",
    "ax.grid(axis='y');"
   ]
  },
  {
   "cell_type": "markdown",
   "id": "1a2465f6-531e-4d6c-b52d-dd936c323e0e",
   "metadata": {},
   "source": [
    "## Length of text distribution"
   ]
  },
  {
   "cell_type": "code",
   "execution_count": 15,
   "id": "abcd293d-fc75-4be2-9b44-bb1ea5344d3a",
   "metadata": {
    "tags": []
   },
   "outputs": [
    {
     "data": {
      "text/plain": [
       "0.25     20.00\n",
       "0.50     37.00\n",
       "0.75     60.00\n",
       "0.95    107.00\n",
       "0.99    164.02\n",
       "Name: TEXT, dtype: float64"
      ]
     },
     "execution_count": 15,
     "metadata": {},
     "output_type": "execute_result"
    }
   ],
   "source": [
    "text_len = df_data.TEXT.apply(lambda review : len(review.split()))\n",
    "text_len.quantile([0.25, 0.5, 0.75, 0.95, 0.99])"
   ]
  },
  {
   "cell_type": "code",
   "execution_count": 16,
   "id": "f4804532-2ebd-4540-b9fd-8acf7b76e4a2",
   "metadata": {
    "tags": []
   },
   "outputs": [
    {
     "data": {
      "image/png": "[encoded data removed]",
      "text/plain": [
       "<Figure size 640x480 with 1 Axes>"
      ]
     },
     "metadata": {},
     "output_type": "display_data"
    }
   ],
   "source": [
    "ax = sns.histplot(text_len)\n",
    "ax.set_title(\"Length of text distribution\")\n",
    "ax.set_xlabel(\"Length of text\");"
   ]
  },
  {
   "cell_type": "markdown",
   "id": "8594f364-dd76-4c57-854d-7ccb1f3c6f1c",
   "metadata": {},
   "source": [
    "Back to Dataset"
   ]
  },
  {
   "cell_type": "code",
   "execution_count": 17,
   "id": "78b74e54-7b00-4f47-96a4-d5d13ebf6861",
   "metadata": {
    "tags": []
   },
   "outputs": [
    {
     "data": {
      "text/plain": [
       "Dataset({\n",
       "    features: ['TEXT', 'RATING'],\n",
       "    num_rows: 3467\n",
       "})"
      ]
     },
     "execution_count": 17,
     "metadata": {},
     "output_type": "execute_result"
    }
   ],
   "source": [
    "data_lite = Dataset.from_pandas(df_data, preserve_index=False)\n",
    "data_lite"
   ]
  },
  {
   "cell_type": "markdown",
   "id": "1c7e8474-28bc-4a2b-941a-5075c1d20668",
   "metadata": {},
   "source": [
    "## Clean/preprocess text"
   ]
  },
  {
   "cell_type": "markdown",
   "id": "6ba4412e-7433-4980-a27c-698059672c42",
   "metadata": {},
   "source": [
    "1. Convert to lowercase.\n",
    "2. Remove the following matches:\n",
    "    - mentions (@[A-Za-z0-9]+)\n",
    "    - hashtags (@[A-Za-z0-9]+)\n",
    "    - links and any other pattern that has a ':' character in the middle (\\.\\S+:\\S+)|(\\,\\S+:\\S+)|(\\w+:\\S+)|(^\\S+:\\S+)\n",
    "    - patterns that combine letters and digits ([A-Za-z]+[0-9]+)|([0-9]+[A-Za-z]+)\n",
    "3. Skip some punctuation characters.\n",
    "    ```\n",
    "        string.punctuation.replace('!','').replace('?','').replace(\"'\",'').\\\n",
    "                           replace(',','').replace('.','').replace(':','').\\\n",
    "                           replace('(','').replace(')','').replace(';','')\n",
    "    ```\n",
    "    Returns: \"#$%&*+-/<=>@[\\\\]^_`{|}~\n",
    "4. Skip whitespaces at the beginning or at the end."
   ]
  },
  {
   "cell_type": "code",
   "execution_count": 18,
   "id": "262066ea-852d-49ce-b7f2-d937013638d2",
   "metadata": {
    "tags": []
   },
   "outputs": [],
   "source": [
    "def clean_text_and_calculate_length(text):\n",
    "    cleaned_text = text['TEXT'].lower()\n",
    "    cleaned_text = re.sub(r\"(@[a-z0-9]+)|(#[a-z0-9]+)|(\\.\\S+:\\S+)|(\\,\\S+:\\S+)|(\\w+:\\S+)|(^\\S+:\\S+)|([a-z]+[0-9]+)|([0-9]+[a-z]+)\", \"\", cleaned_text)\n",
    "    to_remove = string.punctuation.replace('!','').replace('?','').replace(\"'\",'').\\\n",
    "                                   replace(',','').replace('.','').replace(':','').\\\n",
    "                                   replace('(','').replace(')','').replace(';','')\n",
    "    cleaned_text = cleaned_text.translate(str.maketrans('', '', to_remove))\n",
    "    cleaned_text = cleaned_text.strip()\n",
    "    \n",
    "    return {\"CLEANED_TEXT\": cleaned_text, \"TEXT_LENGTH\": len(cleaned_text.split())}"
   ]
  },
  {
   "cell_type": "code",
   "execution_count": 19,
   "id": "0230cff8-8064-4d14-9355-72549b24f961",
   "metadata": {
    "tags": []
   },
   "outputs": [
    {
     "data": {
      "application/vnd.jupyter.widget-view+json": {
       "model_id": "",
       "version_major": 2,
       "version_minor": 0
      },
      "text/plain": [
       "Map:   0%|          | 0/3467 [00:00<?, ? examples/s]"
      ]
     },
     "metadata": {},
     "output_type": "display_data"
    },
    {
     "data": {
      "text/plain": [
       "{'TEXT': ['The shirt was more of a smock. I expected a soft little cotton t shirt, but I suppose it\\\\\\'s my fault for not reading the description carefully. Also, the white shirt was completely see through. I returned mine.\"}},{r:{id:46830320,si:1,pi:10860142,mu:\"{f7dedd4c-02d2-49ba-9553-4f9be0bdb9e5}',\n",
       "  \"Just received my order today. When I opened the package it appeared used to me. The product packaging was wrinkled and the way it was folded inside looked as if someone had just stuffed in the package. When I took it out of the package to put it on, the velcro wouldn't stick. Upon further inspection I realized that the velco was on the wrong side of the belt. It had ripped off of the correct side and stuck to the fuzzy part, which was proof someone had tried to use it before me and this is what happened.....probably why they returned it. Piece of garbage. Will return it to the store as soon as I can and I will order another brand from another store. Very disappointing because I am carrying twins and working full time. I have been struggling the last week to make it through a work day and was really hoping this would help. Now I have to wait and suffer the pain because I got a defective and used product.\"],\n",
       " 'RATING': [0, 0],\n",
       " 'CLEANED_TEXT': [\"the shirt was more of a smock. i expected a soft little cotton t shirt, but i suppose it's my fault for not reading the description carefully. also, the white shirt was completely see through. i returned mine\",\n",
       "  \"just received my order today. when i opened the package it appeared used to me. the product packaging was wrinkled and the way it was folded inside looked as if someone had just stuffed in the package. when i took it out of the package to put it on, the velcro wouldn't stick. upon further inspection i realized that the velco was on the wrong side of the belt. it had ripped off of the correct side and stuck to the fuzzy part, which was proof someone had tried to use it before me and this is what happened.....probably why they returned it. piece of garbage. will return it to the store as soon as i can and i will order another brand from another store. very disappointing because i am carrying twins and working full time. i have been struggling the last week to make it through a work day and was really hoping this would help. now i have to wait and suffer the pain because i got a defective and used product.\"],\n",
       " 'TEXT_LENGTH': [38, 175]}"
      ]
     },
     "execution_count": 19,
     "metadata": {},
     "output_type": "execute_result"
    }
   ],
   "source": [
    "data_lite = data_lite.map(clean_text_and_calculate_length)\n",
    "data_lite[:2]"
   ]
  },
  {
   "cell_type": "markdown",
   "id": "a5890087-5d40-4dfe-98a4-0de02a07c846",
   "metadata": {},
   "source": [
    "## Filter reviews by the length of the text"
   ]
  },
  {
   "cell_type": "code",
   "execution_count": 20,
   "id": "60856a50-e5e7-4b60-a4ad-4bec9339dc84",
   "metadata": {
    "tags": []
   },
   "outputs": [
    {
     "data": {
      "application/vnd.jupyter.widget-view+json": {
       "model_id": "",
       "version_major": 2,
       "version_minor": 0
      },
      "text/plain": [
       "Filter:   0%|          | 0/3467 [00:00<?, ? examples/s]"
      ]
     },
     "metadata": {},
     "output_type": "display_data"
    },
    {
     "data": {
      "text/plain": [
       "{'TEXT': ['Very cute and comfty',\n",
       "  'Thin fabric but quite attractive.',\n",
       "  \"I'm 5\\\\\",\n",
       "  'They are very comfortable pants!',\n",
       "  'I say \\\\',\n",
       "  'great price! great shirt!',\n",
       "  'Hugs hips true to size',\n",
       "  'GREAT PRICE AND GREAT SHIRT!',\n",
       "  \"I am 5'5\\\\\",\n",
       "  'I bought this \\\\',\n",
       "  'Fell apart after one wash!!!!!',\n",
       "  \"I'm 5'3\\\\\",\n",
       "  'Runs a little small.',\n",
       "  'comfortable fit and washes well',\n",
       "  'This has been my \\\\',\n",
       "  'Amazing prints and comfy!!!',\n",
       "  'love love love this dress....',\n",
       "  'Comfortable hope they last',\n",
       "  'Freezing NY winters - Warm enough??',\n",
       "  'Just exactly what I expected.'],\n",
       " 'RATING': [4, 3, 4, 3, 3, 4, 4, 4, 0, 1, 0, 3, 3, 4, 2, 4, 4, 4, 4, 4],\n",
       " 'CLEANED_TEXT': ['very cute and comfty',\n",
       "  'thin fabric but quite attractive.',\n",
       "  \"i'm 5\",\n",
       "  'they are very comfortable pants!',\n",
       "  'i say',\n",
       "  'great price! great shirt!',\n",
       "  'hugs hips true to size',\n",
       "  'great price and great shirt!',\n",
       "  \"i am 5'5\",\n",
       "  'i bought this',\n",
       "  'fell apart after one wash!!!!!',\n",
       "  \"i'm 5'3\",\n",
       "  'runs a little small.',\n",
       "  'comfortable fit and washes well',\n",
       "  'this has been my',\n",
       "  'amazing prints and comfy!!!',\n",
       "  'love love love this dress....',\n",
       "  'comfortable hope they last',\n",
       "  'freezing ny winters  warm enough??',\n",
       "  'just exactly what i expected.'],\n",
       " 'TEXT_LENGTH': [4, 5, 2, 5, 2, 4, 5, 5, 3, 3, 5, 2, 4, 5, 4, 4, 5, 4, 5, 5]}"
      ]
     },
     "execution_count": 20,
     "metadata": {},
     "output_type": "execute_result"
    }
   ],
   "source": [
    "data_lite.filter(lambda review : review[\"TEXT_LENGTH\"] < 6).shuffle()[:20]"
   ]
  },
  {
   "cell_type": "markdown",
   "id": "bc493edf-65d5-4bdb-be47-aa383a560394",
   "metadata": {},
   "source": [
    "From 6 words onwards it may be possible to extract useful information from the reviews. Besides, this operation doesn't remove too many reviews which are valuable for the training and validation process."
   ]
  },
  {
   "cell_type": "code",
   "execution_count": 21,
   "id": "015bdd35-e1a8-4038-a6e7-ba6d14caf5a4",
   "metadata": {
    "tags": []
   },
   "outputs": [
    {
     "data": {
      "application/vnd.jupyter.widget-view+json": {
       "model_id": "",
       "version_major": 2,
       "version_minor": 0
      },
      "text/plain": [
       "Filter:   0%|          | 0/3467 [00:00<?, ? examples/s]"
      ]
     },
     "metadata": {},
     "output_type": "display_data"
    },
    {
     "data": {
      "text/plain": [
       "Dataset({\n",
       "    features: ['TEXT', 'RATING', 'CLEANED_TEXT', 'TEXT_LENGTH'],\n",
       "    num_rows: 3360\n",
       "})"
      ]
     },
     "execution_count": 21,
     "metadata": {},
     "output_type": "execute_result"
    }
   ],
   "source": [
    "data_lite = data_lite.filter(lambda review : review[\"TEXT_LENGTH\"] > 6)\n",
    "data_lite"
   ]
  },
  {
   "cell_type": "markdown",
   "id": "13a6d432-8498-498d-9bfc-b2d9ed5ce87c",
   "metadata": {},
   "source": [
    "We need to rename the labels column to what the model expects. In the case of the `bert-base-uncased` is `label`."
   ]
  },
  {
   "cell_type": "code",
   "execution_count": 22,
   "id": "97bf4e0f-9f82-4a28-b65f-a7c60fe1e5b6",
   "metadata": {
    "tags": []
   },
   "outputs": [
    {
     "data": {
      "text/plain": [
       "Dataset({\n",
       "    features: ['label', 'text'],\n",
       "    num_rows: 3360\n",
       "})"
      ]
     },
     "execution_count": 22,
     "metadata": {},
     "output_type": "execute_result"
    }
   ],
   "source": [
    "data_lite = data_lite.remove_columns(['TEXT', 'TEXT_LENGTH']).rename_column('CLEANED_TEXT', 'text').rename_column('RATING', 'label')\n",
    "data_lite"
   ]
  },
  {
   "cell_type": "markdown",
   "id": "82a928ee-8314-44c8-8063-72b7f7ee85b5",
   "metadata": {},
   "source": [
    "# Create validation and evaluation datasets"
   ]
  },
  {
   "cell_type": "code",
   "execution_count": 23,
   "id": "3acce8e8-ed09-4bf5-8868-cdfe4f44702c",
   "metadata": {
    "tags": []
   },
   "outputs": [
    {
     "data": {
      "text/plain": [
       "DatasetDict({\n",
       "    train: Dataset({\n",
       "        features: ['label', 'text'],\n",
       "        num_rows: 2688\n",
       "    })\n",
       "    validation: Dataset({\n",
       "        features: ['label', 'text'],\n",
       "        num_rows: 672\n",
       "    })\n",
       "})"
      ]
     },
     "execution_count": 23,
     "metadata": {},
     "output_type": "execute_result"
    }
   ],
   "source": [
    "# First create train (80%) and text (20%) datasets\n",
    "dataset_dict = data_lite.train_test_split(train_size=0.8, seed=42)\n",
    "# Rename validation dataset\n",
    "dataset_dict['validation'] = dataset_dict.pop('test')\n",
    "dataset_dict"
   ]
  },
  {
   "cell_type": "code",
   "execution_count": 24,
   "id": "eb9a4d28-2c97-4bd2-8271-2dd25a6a7a36",
   "metadata": {},
   "outputs": [
    {
     "data": {
      "application/vnd.jupyter.widget-view+json": {
       "model_id": "",
       "version_major": 2,
       "version_minor": 0
      },
      "text/plain": [
       "Saving the dataset (0/1 shards):   0%|          | 0/2688 [00:00<?, ? examples/s]"
      ]
     },
     "metadata": {},
     "output_type": "display_data"
    },
    {
     "data": {
      "application/vnd.jupyter.widget-view+json": {
       "model_id": "",
       "version_major": 2,
       "version_minor": 0
      },
      "text/plain": [
       "Saving the dataset (0/1 shards):   0%|          | 0/672 [00:00<?, ? examples/s]"
      ]
     },
     "metadata": {},
     "output_type": "display_data"
    }
   ],
   "source": [
    "dataset_dict.save_to_disk(\"../Resources/ratings_dataset\")"
   ]
  },
  {
   "cell_type": "code",
   "execution_count": 25,
   "id": "3782e1c4-1085-40cb-bd14-525dd2f1ea57",
   "metadata": {
    "tags": []
   },
   "outputs": [
    {
     "data": {
      "text/plain": [
       "DatasetDict({\n",
       "    train: Dataset({\n",
       "        features: ['label', 'text'],\n",
       "        num_rows: 2688\n",
       "    })\n",
       "    validation: Dataset({\n",
       "        features: ['label', 'text'],\n",
       "        num_rows: 672\n",
       "    })\n",
       "})"
      ]
     },
     "execution_count": 25,
     "metadata": {},
     "output_type": "execute_result"
    }
   ],
   "source": [
    "dataset_dict_reloaded = load_from_disk(\"../Resources/ratings_dataset\")\n",
    "dataset_dict_reloaded"
   ]
  },
  {
   "cell_type": "code",
   "execution_count": null,
   "id": "59e358fa-91fc-4fcd-b31b-42bb7fcfef83",
   "metadata": {},
   "outputs": [],
   "source": []
  }
 ],
 "metadata": {
  "kernelspec": {
   "display_name": "Python 3 (ipykernel)",
   "language": "python",
   "name": "python3"
  },
  "language_info": {
   "codemirror_mode": {
    "name": "ipython",
    "version": 3
   },
   "file_extension": ".py",
   "mimetype": "text/x-python",
   "name": "python",
   "nbconvert_exporter": "python",
   "pygments_lexer": "ipython3",
   "version": "3.9.16"
  }
 },
 "nbformat": 4,
 "nbformat_minor": 5
}
